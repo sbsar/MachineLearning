{
 "cells": [
  {
   "cell_type": "code",
   "execution_count": 1,
   "id": "ff35be8a",
   "metadata": {
    "pycharm": {
     "name": "#%%\n"
    }
   },
   "outputs": [],
   "source": [
    "import numpy as np"
   ]
  },
  {
   "cell_type": "code",
   "execution_count": 2,
   "id": "c62c74f7",
   "metadata": {
    "pycharm": {
     "name": "#%%\n"
    }
   },
   "outputs": [],
   "source": [
    "import pandas as pd"
   ]
  },
  {
   "cell_type": "code",
   "execution_count": 3,
   "id": "293bbb7f",
   "metadata": {
    "pycharm": {
     "name": "#%%\n"
    }
   },
   "outputs": [],
   "source": [
    "name_1 = [\"q1\",\"q2\",\"q3\"]\n",
    "data_1 = [10,20,30]"
   ]
  },
  {
   "cell_type": "code",
   "execution_count": 4,
   "id": "553a99e8",
   "metadata": {
    "pycharm": {
     "name": "#%%\n"
    }
   },
   "outputs": [],
   "source": [
    "array_1 = np.array(data_1)"
   ]
  },
  {
   "cell_type": "code",
   "execution_count": 5,
   "id": "264a18f7",
   "metadata": {
    "pycharm": {
     "name": "#%%\n"
    }
   },
   "outputs": [],
   "source": [
    "dic_1 = {'set1': [12,12,21], 'set2':[23, 4, 1], 'set3':[354,12,6]}\n",
    "dic_2 = {'p':12, 'q': 13, 'r':14}"
   ]
  },
  {
   "cell_type": "code",
   "execution_count": 6,
   "id": "8f4971e3",
   "metadata": {
    "pycharm": {
     "name": "#%%\n"
    }
   },
   "outputs": [],
   "source": [
    "pd_series1 = pd.Series(data=dic_2)"
   ]
  },
  {
   "cell_type": "code",
   "execution_count": 7,
   "id": "dc8710d5",
   "metadata": {
    "pycharm": {
     "name": "#%%\n"
    }
   },
   "outputs": [
    {
     "data": {
      "text/plain": "p    12\nq    13\nr    14\ndtype: int64"
     },
     "execution_count": 7,
     "metadata": {},
     "output_type": "execute_result"
    }
   ],
   "source": [
    "pd_series1"
   ]
  },
  {
   "cell_type": "code",
   "execution_count": 8,
   "id": "34f189df",
   "metadata": {
    "pycharm": {
     "name": "#%%\n"
    }
   },
   "outputs": [
    {
     "data": {
      "text/plain": "set1    [12, 12, 21]\nset2      [23, 4, 1]\nset3    [354, 12, 6]\ndtype: object"
     },
     "execution_count": 8,
     "metadata": {},
     "output_type": "execute_result"
    }
   ],
   "source": [
    "pd_series2 = pd.Series(data=dic_1)\n",
    "pd_series2"
   ]
  },
  {
   "cell_type": "code",
   "execution_count": 9,
   "id": "cfd4aeb9",
   "metadata": {
    "pycharm": {
     "name": "#%%\n"
    }
   },
   "outputs": [],
   "source": [
    "pd_series3 = pd.Series(data_1)"
   ]
  },
  {
   "cell_type": "code",
   "execution_count": 10,
   "id": "ac779217",
   "metadata": {
    "pycharm": {
     "name": "#%%\n"
    }
   },
   "outputs": [
    {
     "data": {
      "text/plain": "0    10\n1    20\n2    30\ndtype: int64"
     },
     "execution_count": 10,
     "metadata": {},
     "output_type": "execute_result"
    }
   ],
   "source": [
    "pd_series3"
   ]
  },
  {
   "cell_type": "code",
   "execution_count": 11,
   "id": "f0d7860a",
   "metadata": {
    "pycharm": {
     "name": "#%%\n"
    }
   },
   "outputs": [],
   "source": [
    "pd_series4 = pd.Series(data=data_1, index= name_1)"
   ]
  },
  {
   "cell_type": "code",
   "execution_count": 12,
   "id": "daf58bb7",
   "metadata": {
    "pycharm": {
     "name": "#%%\n"
    }
   },
   "outputs": [
    {
     "data": {
      "text/plain": "q1    10\nq2    20\nq3    30\ndtype: int64"
     },
     "execution_count": 12,
     "metadata": {},
     "output_type": "execute_result"
    }
   ],
   "source": [
    "pd_series4"
   ]
  },
  {
   "cell_type": "code",
   "execution_count": 13,
   "id": "179f6ca6",
   "metadata": {
    "pycharm": {
     "name": "#%%\n"
    }
   },
   "outputs": [
    {
     "data": {
      "text/plain": "s    10\np    20\nr    30\ndtype: int64"
     },
     "execution_count": 13,
     "metadata": {},
     "output_type": "execute_result"
    }
   ],
   "source": [
    "pd_series4  = pd.Series(data = data_1, index = ['s','p','r'])\n",
    "pd_series4"
   ]
  },
  {
   "cell_type": "code",
   "execution_count": 14,
   "id": "03775e59",
   "metadata": {
    "pycharm": {
     "name": "#%%\n"
    }
   },
   "outputs": [
    {
     "data": {
      "text/plain": "p    10\ns    20\nm    30\ndtype: int64"
     },
     "execution_count": 14,
     "metadata": {},
     "output_type": "execute_result"
    }
   ],
   "source": [
    "pd_series5  = pd.Series(data = data_1, index = ['p','s','m'])\n",
    "pd_series5"
   ]
  },
  {
   "cell_type": "code",
   "execution_count": 15,
   "id": "4d9ecbb8",
   "metadata": {
    "pycharm": {
     "name": "#%%\n"
    }
   },
   "outputs": [
    {
     "data": {
      "text/plain": "m     NaN\np    30.0\nr     NaN\ns    30.0\ndtype: float64"
     },
     "execution_count": 15,
     "metadata": {},
     "output_type": "execute_result"
    }
   ],
   "source": [
    "pd_series4 + pd_series5"
   ]
  },
  {
   "cell_type": "code",
   "execution_count": 16,
   "id": "bec06be0",
   "metadata": {
    "pycharm": {
     "name": "#%%\n"
    }
   },
   "outputs": [
    {
     "data": {
      "text/plain": "30"
     },
     "execution_count": 16,
     "metadata": {},
     "output_type": "execute_result"
    }
   ],
   "source": [
    "pd_series5[2]"
   ]
  },
  {
   "cell_type": "code",
   "execution_count": 17,
   "id": "028fb7e9",
   "metadata": {
    "pycharm": {
     "name": "#%%\n"
    }
   },
   "outputs": [],
   "source": [
    "df1 = pd.DataFrame(np.random.randn(5,4), index=['r1','r2','r3','r4','r5'], columns= ['c1','c2','c3','c4'])"
   ]
  },
  {
   "cell_type": "code",
   "execution_count": 18,
   "id": "e4fa2241",
   "metadata": {
    "pycharm": {
     "name": "#%%\n"
    }
   },
   "outputs": [
    {
     "ename": "SyntaxError",
     "evalue": "unterminated string literal (detected at line 1) (667546812.py, line 1)",
     "output_type": "error",
     "traceback": [
      "\u001B[1;36m  Cell \u001B[1;32mIn[18], line 1\u001B[1;36m\u001B[0m\n\u001B[1;33m    df1.pivot(index=\"index\", columns=\"columns, values=\"df1\")\u001B[0m\n\u001B[1;37m                                                          ^\u001B[0m\n\u001B[1;31mSyntaxError\u001B[0m\u001B[1;31m:\u001B[0m unterminated string literal (detected at line 1)\n"
     ]
    }
   ],
   "source": []
  },
  {
   "cell_type": "code",
   "execution_count": null,
   "id": "41e078a7",
   "metadata": {
    "pycharm": {
     "name": "#%%\n"
    }
   },
   "outputs": [],
   "source": []
  },
  {
   "cell_type": "code",
   "execution_count": 31,
   "id": "4feaa5c7",
   "metadata": {
    "pycharm": {
     "name": "#%%\n"
    }
   },
   "outputs": [
    {
     "data": {
      "text/plain": "          c1        c2\nr1  0.331499  0.210148\nr2 -1.265711  1.466513\nr3 -0.556971 -0.648032\nr4 -1.621010  1.095898\nr5 -2.041426  0.938112",
      "text/html": "<div>\n<style scoped>\n    .dataframe tbody tr th:only-of-type {\n        vertical-align: middle;\n    }\n\n    .dataframe tbody tr th {\n        vertical-align: top;\n    }\n\n    .dataframe thead th {\n        text-align: right;\n    }\n</style>\n<table border=\"1\" class=\"dataframe\">\n  <thead>\n    <tr style=\"text-align: right;\">\n      <th></th>\n      <th>c1</th>\n      <th>c2</th>\n    </tr>\n  </thead>\n  <tbody>\n    <tr>\n      <th>r1</th>\n      <td>0.331499</td>\n      <td>0.210148</td>\n    </tr>\n    <tr>\n      <th>r2</th>\n      <td>-1.265711</td>\n      <td>1.466513</td>\n    </tr>\n    <tr>\n      <th>r3</th>\n      <td>-0.556971</td>\n      <td>-0.648032</td>\n    </tr>\n    <tr>\n      <th>r4</th>\n      <td>-1.621010</td>\n      <td>1.095898</td>\n    </tr>\n    <tr>\n      <th>r5</th>\n      <td>-2.041426</td>\n      <td>0.938112</td>\n    </tr>\n  </tbody>\n</table>\n</div>"
     },
     "execution_count": 31,
     "metadata": {},
     "output_type": "execute_result"
    }
   ],
   "source": [
    "df1[['c1','c2']]"
   ]
  },
  {
   "cell_type": "code",
   "execution_count": null,
   "id": "e23ce9fb",
   "metadata": {
    "pycharm": {
     "name": "#%%\n"
    }
   },
   "outputs": [],
   "source": [
    "df1['temp'] = [1,2,3,4,5]"
   ]
  },
  {
   "cell_type": "code",
   "execution_count": null,
   "id": "b0238fdc",
   "metadata": {
    "pycharm": {
     "name": "#%%\n"
    }
   },
   "outputs": [],
   "source": [
    "df1"
   ]
  },
  {
   "cell_type": "code",
   "execution_count": null,
   "id": "782ac4d7",
   "metadata": {
    "pycharm": {
     "name": "#%%\n"
    }
   },
   "outputs": [],
   "source": [
    "df1.drop('temp', axis=1, inplace=True)"
   ]
  },
  {
   "cell_type": "code",
   "execution_count": null,
   "id": "17c7594f",
   "metadata": {
    "pycharm": {
     "name": "#%%\n"
    }
   },
   "outputs": [],
   "source": [
    "df1"
   ]
  },
  {
   "cell_type": "code",
   "execution_count": 21,
   "outputs": [],
   "source": [
    "df7 = pd.DataFrame(np.random.randn(2,3).reshape(3,2), columns=['column1','column2'], index=['row1','row2','row3'])"
   ],
   "metadata": {
    "collapsed": false,
    "pycharm": {
     "name": "#%%\n"
    }
   }
  },
  {
   "cell_type": "code",
   "execution_count": 22,
   "outputs": [
    {
     "data": {
      "text/plain": "       column1   column2\nrow1 -0.058082 -0.330858\nrow2  0.837947  0.502206\nrow3 -0.621695 -1.002122",
      "text/html": "<div>\n<style scoped>\n    .dataframe tbody tr th:only-of-type {\n        vertical-align: middle;\n    }\n\n    .dataframe tbody tr th {\n        vertical-align: top;\n    }\n\n    .dataframe thead th {\n        text-align: right;\n    }\n</style>\n<table border=\"1\" class=\"dataframe\">\n  <thead>\n    <tr style=\"text-align: right;\">\n      <th></th>\n      <th>column1</th>\n      <th>column2</th>\n    </tr>\n  </thead>\n  <tbody>\n    <tr>\n      <th>row1</th>\n      <td>-0.058082</td>\n      <td>-0.330858</td>\n    </tr>\n    <tr>\n      <th>row2</th>\n      <td>0.837947</td>\n      <td>0.502206</td>\n    </tr>\n    <tr>\n      <th>row3</th>\n      <td>-0.621695</td>\n      <td>-1.002122</td>\n    </tr>\n  </tbody>\n</table>\n</div>"
     },
     "execution_count": 22,
     "metadata": {},
     "output_type": "execute_result"
    }
   ],
   "source": [
    "df7"
   ],
   "metadata": {
    "collapsed": false,
    "pycharm": {
     "name": "#%%\n"
    }
   }
  },
  {
   "cell_type": "code",
   "execution_count": 23,
   "outputs": [
    {
     "data": {
      "text/plain": "0.5022055734432962"
     },
     "execution_count": 23,
     "metadata": {},
     "output_type": "execute_result"
    }
   ],
   "source": [
    "df7['column2']['row2']"
   ],
   "metadata": {
    "collapsed": false,
    "pycharm": {
     "name": "#%%\n"
    }
   }
  },
  {
   "cell_type": "code",
   "execution_count": 44,
   "outputs": [
    {
     "data": {
      "text/plain": "          c1        c2        c3        c4\nr1  0.331499  0.210148 -0.524509 -0.471959\nr2 -1.265711  1.466513 -0.817898  1.191990\nr3 -0.556971 -0.648032  0.498388 -0.325152\nr4 -1.621010  1.095898  1.842171 -1.562282\nr5 -2.041426  0.938112  1.713108 -0.345903",
      "text/html": "<div>\n<style scoped>\n    .dataframe tbody tr th:only-of-type {\n        vertical-align: middle;\n    }\n\n    .dataframe tbody tr th {\n        vertical-align: top;\n    }\n\n    .dataframe thead th {\n        text-align: right;\n    }\n</style>\n<table border=\"1\" class=\"dataframe\">\n  <thead>\n    <tr style=\"text-align: right;\">\n      <th></th>\n      <th>c1</th>\n      <th>c2</th>\n      <th>c3</th>\n      <th>c4</th>\n    </tr>\n  </thead>\n  <tbody>\n    <tr>\n      <th>r1</th>\n      <td>0.331499</td>\n      <td>0.210148</td>\n      <td>-0.524509</td>\n      <td>-0.471959</td>\n    </tr>\n    <tr>\n      <th>r2</th>\n      <td>-1.265711</td>\n      <td>1.466513</td>\n      <td>-0.817898</td>\n      <td>1.191990</td>\n    </tr>\n    <tr>\n      <th>r3</th>\n      <td>-0.556971</td>\n      <td>-0.648032</td>\n      <td>0.498388</td>\n      <td>-0.325152</td>\n    </tr>\n    <tr>\n      <th>r4</th>\n      <td>-1.621010</td>\n      <td>1.095898</td>\n      <td>1.842171</td>\n      <td>-1.562282</td>\n    </tr>\n    <tr>\n      <th>r5</th>\n      <td>-2.041426</td>\n      <td>0.938112</td>\n      <td>1.713108</td>\n      <td>-0.345903</td>\n    </tr>\n  </tbody>\n</table>\n</div>"
     },
     "execution_count": 44,
     "metadata": {},
     "output_type": "execute_result"
    }
   ],
   "source": [
    "df1"
   ],
   "metadata": {
    "collapsed": false,
    "pycharm": {
     "name": "#%%\n"
    }
   }
  },
  {
   "cell_type": "code",
   "execution_count": 46,
   "outputs": [
    {
     "data": {
      "text/plain": "          c3        c4\nr3  0.498388 -0.325152\nr5  1.713108 -0.345903",
      "text/html": "<div>\n<style scoped>\n    .dataframe tbody tr th:only-of-type {\n        vertical-align: middle;\n    }\n\n    .dataframe tbody tr th {\n        vertical-align: top;\n    }\n\n    .dataframe thead th {\n        text-align: right;\n    }\n</style>\n<table border=\"1\" class=\"dataframe\">\n  <thead>\n    <tr style=\"text-align: right;\">\n      <th></th>\n      <th>c3</th>\n      <th>c4</th>\n    </tr>\n  </thead>\n  <tbody>\n    <tr>\n      <th>r3</th>\n      <td>0.498388</td>\n      <td>-0.325152</td>\n    </tr>\n    <tr>\n      <th>r5</th>\n      <td>1.713108</td>\n      <td>-0.345903</td>\n    </tr>\n  </tbody>\n</table>\n</div>"
     },
     "execution_count": 46,
     "metadata": {},
     "output_type": "execute_result"
    }
   ],
   "source": [
    "df1.loc[('r3','r5'),('c3','c4')]"
   ],
   "metadata": {
    "collapsed": false,
    "pycharm": {
     "name": "#%%\n"
    }
   }
  },
  {
   "cell_type": "code",
   "execution_count": null,
   "outputs": [],
   "source": [
    "df1.reset_index()"
   ],
   "metadata": {
    "collapsed": false,
    "pycharm": {
     "name": "#%%\n"
    }
   }
  }
 ],
 "metadata": {
  "kernelspec": {
   "display_name": "Python 3 (ipykernel)",
   "language": "python",
   "name": "python3"
  },
  "language_info": {
   "codemirror_mode": {
    "name": "ipython",
    "version": 3
   },
   "file_extension": ".py",
   "mimetype": "text/x-python",
   "name": "python",
   "nbconvert_exporter": "python",
   "pygments_lexer": "ipython3",
   "version": "3.11.3"
  }
 },
 "nbformat": 4,
 "nbformat_minor": 5
}